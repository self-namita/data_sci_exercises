{
 "cells": [
  {
   "cell_type": "code",
   "execution_count": 83,
   "metadata": {},
   "outputs": [
    {
     "name": "stdout",
     "output_type": "stream",
     "text": [
      "Bell curve probabilities with SD=1\n",
      "68.297 %\n",
      "27.038 %\n",
      "4.373 %\n",
      "0.28300000000000003 %\n"
     ]
    }
   ],
   "source": [
    "import numpy as np\n",
    "from numpy.random import randn\n",
    "\n",
    "n = 100000    #as the sample size increases, the mean converges towards E(X)\n",
    "count = 0\n",
    "count1 = 0\n",
    "count2 = 0\n",
    "count3 = 0\n",
    "for i in randn(n):\n",
    "    if (-1< i <1):\n",
    "        count = count + 1\n",
    "    elif (-2< i <-1  or  1< i <2):\n",
    "        count1 = count1 + 1\n",
    "    elif (-3< i <-2  or  2< i <3):\n",
    "        count2 = count2 + 1\n",
    "    elif (-4< i <-3  or  3< i <4):\n",
    "        count3 = count3 + 1\n",
    "\n",
    "ratio = count/n\n",
    "ratio1 = count1/n\n",
    "ratio2 = count2/n\n",
    "ratio3 = count3/n\n",
    "print(\"Bell curve probabilities with SD=1\")\n",
    "print(ratio*100,\"%\")\n",
    "print(ratio1*100,\"%\")\n",
    "print(ratio2*100,\"%\")\n",
    "print(ratio3*100,\"%\")\n",
    "    \n",
    "# 34.1 + 34.1 = 68.2% # expected values\n",
    "# 13.5 + 13.5 = 27%\n",
    "# 2.35 + 2.35 = 4.70%\n",
    "# 0.15 + 0.15 = 0.30%\n"
   ]
  },
  {
   "cell_type": "code",
   "execution_count": null,
   "metadata": {},
   "outputs": [],
   "source": []
  }
 ],
 "metadata": {
  "kernelspec": {
   "display_name": "Python 3",
   "language": "python",
   "name": "python3"
  },
  "language_info": {
   "codemirror_mode": {
    "name": "ipython",
    "version": 3
   },
   "file_extension": ".py",
   "mimetype": "text/x-python",
   "name": "python",
   "nbconvert_exporter": "python",
   "pygments_lexer": "ipython3",
   "version": "3.7.4"
  }
 },
 "nbformat": 4,
 "nbformat_minor": 2
}
