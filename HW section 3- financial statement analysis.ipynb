{
 "cells": [
  {
   "cell_type": "code",
   "execution_count": 1,
   "metadata": {},
   "outputs": [],
   "source": [
    "#Data \n",
    "revenue = [14574.49, 7606.46, 8611.41, 9175.41, 8058.65, 8105.44, 11496.28, 9766.09, 10305.32, 14379.96, 10713.97, 15433.50]\n",
    "expenses = [12051.82, 5695.07, 12319.20, 12089.72, 8658.57, 840.20, 3285.73, 5821.12, 6976.93, 16618.61, 10054.37, 3803.96]"
   ]
  },
  {
   "cell_type": "code",
   "execution_count": 76,
   "metadata": {},
   "outputs": [
    {
     "name": "stdout",
     "output_type": "stream",
     "text": [
      "profit= [2522.67, 1911.3900000000003, -3707.790000000001, -2914.3099999999995, -599.9200000000001, 7265.24, 8210.550000000001, 3944.9700000000003, 3328.3899999999994, -2238.6500000000015, 659.5999999999985, 11629.54]\n",
      "profit in 1000$= [2.52, 1.91, -3.71, -2.91, -0.6, 7.27, 8.21, 3.94, 3.33, -2.24, 0.66, 11.63]\n"
     ]
    }
   ],
   "source": [
    "#profit for each month = revenue - expense\n",
    "\n",
    "profit = list([])\n",
    "#type(profit)\n",
    "\n",
    "for i in range(len(revenue)):\n",
    "    profit.append(revenue[i] - expenses[i])\n",
    "\n",
    "print(\"profit=\", profit)\n",
    "profit_1000 = [round(i/1000,2) for i in profit]\n",
    "print(\"profit in 1000$=\", profit_1000)"
   ]
  },
  {
   "cell_type": "code",
   "execution_count": 77,
   "metadata": {},
   "outputs": [
    {
     "name": "stdout",
     "output_type": "stream",
     "text": [
      "profit after 30% tax= [756.8, 573.42, -1112.34, -874.29, -179.98, 2179.57, 2463.17, 1183.49, 998.52, -671.6, 197.88, 3488.86]\n",
      "Tax in 1000$= [0.76, 0.57, -1.11, -0.87, -0.18, 2.18, 2.46, 1.18, 1.0, -0.67, 0.2, 3.49]\n"
     ]
    }
   ],
   "source": [
    "# Profit after tax for each month (profir x 30%)\n",
    "tax = list([])\n",
    "for i in range(len(profit)):\n",
    "    tax.append(round(profit[i]*0.3, 2))\n",
    "\n",
    "print(\"profit after 30% tax=\", tax)\n",
    "tax_1000 = [round(i/1000,2) for i in tax]\n",
    "print(\"Tax in 1000$=\", tax_1000)"
   ]
  },
  {
   "cell_type": "code",
   "execution_count": 78,
   "metadata": {},
   "outputs": [
    {
     "name": "stdout",
     "output_type": "stream",
     "text": [
      "Net Profit= [1765.8700000000001, 1337.9700000000003, -2595.4500000000007, -2040.0199999999995, -419.94000000000005, 5085.67, 5747.380000000001, 2761.4800000000005, 2329.8699999999994, -1567.0500000000015, 461.71999999999855, 8140.68]\n",
      "Net Profit in 1000$= [1.77, 1.34, -2.6, -2.04, -0.42, 5.09, 5.75, 2.76, 2.33, -1.57, 0.46, 8.14]\n"
     ]
    }
   ],
   "source": [
    "# net profit after paying tax = profit - tax\n",
    "\n",
    "netProfit = list([])\n",
    "\n",
    "for i in range(len(profit)):\n",
    "    netProfit.append(profit[i]-tax[i])\n",
    "    \n",
    "print(\"Net Profit=\", netProfit)\n",
    "netProfit_1000 = [round(i/1000,2) for i in netProfit]\n",
    "print(\"Net Profit in 1000$=\", netProfit_1000)"
   ]
  },
  {
   "cell_type": "code",
   "execution_count": 44,
   "metadata": {},
   "outputs": [
    {
     "name": "stdout",
     "output_type": "stream",
     "text": [
      "Profit margin= [12.12, 17.59, -30.14, -22.23, -5.21, 62.74, 49.99, 28.28, 22.61, -10.9, 4.31, 52.75]\n"
     ]
    }
   ],
   "source": [
    "# profit margin percentage after tax = (net profit/ revenue)* 100\n",
    "\n",
    "profitMargin = list([])\n",
    "\n",
    "for i in range(len(netProfit)):\n",
    "    profitMargin.append(round((netProfit[i]/revenue[i])*100, 2))  # 2 decimal accuracy\n",
    "\n",
    "print(\"Profit margin=\", profitMargin)"
   ]
  },
  {
   "cell_type": "code",
   "execution_count": 45,
   "metadata": {},
   "outputs": [
    {
     "name": "stdout",
     "output_type": "stream",
     "text": [
      "Mean profit after tax= 1750.6816666666666\n"
     ]
    }
   ],
   "source": [
    "# Mean of profit after tax\n",
    "\n",
    "mean = sum(netProfit)/len(netProfit)\n",
    "#mean =  round(mean, 2)\n",
    "print(\"Mean profit after tax=\", mean)"
   ]
  },
  {
   "cell_type": "code",
   "execution_count": 56,
   "metadata": {},
   "outputs": [
    {
     "name": "stdout",
     "output_type": "stream",
     "text": [
      "Good and bad months= ['Good Month', 'Bad Month', 'Bad Month', 'Bad Month', 'Bad Month', 'Good Month', 'Good Month', 'Good Month', 'Good Month', 'Bad Month', 'Bad Month', 'Good Month']\n"
     ]
    }
   ],
   "source": [
    "# Good months and Bad months\n",
    "\n",
    "goodMonths = list([])\n",
    "type(goodMonths)\n",
    "for i in range(len(netProfit)):\n",
    "    goodMonths.append(netProfit[i]>mean)\n",
    "    if goodMonths[i] == True:\n",
    "        goodMonths[i] = \"Good Month\"\n",
    "    else: \n",
    "        goodMonths[i] = \"Bad Month\"\n",
    "print(\"Good and bad months=\", goodMonths)"
   ]
  },
  {
   "cell_type": "code",
   "execution_count": 67,
   "metadata": {},
   "outputs": [
    {
     "name": "stdout",
     "output_type": "stream",
     "text": [
      "Best month=  12 th with value= 8140.68\n",
      "Worst month=  3 th with value= -2595.4500000000007\n"
     ]
    }
   ],
   "source": [
    "# Best and Worst month\n",
    "bestMonth = netProfit.index(max(netProfit))\n",
    "bestMonth = bestMonth+1\n",
    "print(\"Best month= \", bestMonth,\"th\", \"with value=\", max(netProfit))\n",
    "\n",
    "worstMonth = netProfit.index(min(netProfit))\n",
    "worstMonth = worstMonth+1\n",
    "print(\"Worst month= \", worstMonth, \"th\", \"with value=\", min(netProfit))\n",
    "#1-jan  2-feb  3-march  4-april  ... 12-dec"
   ]
  },
  {
   "cell_type": "code",
   "execution_count": null,
   "metadata": {},
   "outputs": [],
   "source": []
  }
 ],
 "metadata": {
  "kernelspec": {
   "display_name": "Python 3",
   "language": "python",
   "name": "python3"
  },
  "language_info": {
   "codemirror_mode": {
    "name": "ipython",
    "version": 3
   },
   "file_extension": ".py",
   "mimetype": "text/x-python",
   "name": "python",
   "nbconvert_exporter": "python",
   "pygments_lexer": "ipython3",
   "version": "3.7.4"
  }
 },
 "nbformat": 4,
 "nbformat_minor": 1
}
